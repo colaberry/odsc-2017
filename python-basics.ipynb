{
 "cells": [
  {
   "cell_type": "markdown",
   "metadata": {},
   "source": [
    "# 1: Intro to Python\n",
    "Python is a simple, easy-to-learn, pseudo-code resembling programming language. It is also rich with all features of any object oriented language. Scientists and Mathematicians have been using python since its inception and hence is popular for analytical tasks. Python is also known for its brevity. \n",
    "\n",
    "## Why is Python a Favorite of Data Scientists?\n",
    "Python has a lot of flexibility w.r.t not necessitating declaration of complex types of variables, interactive, and is easy to learn. This helps Data Scientists easily translate their ideas into experiments. Python offers very extensive libraries such as pandas and scikit-learn. Any area of Data Science will most likely have libraries in python available. We shall therefore be using Python throughout the course.  Let us refresh some of the concepts in python starting with variables. The Machine Learning/AI Engineers use the object-oriented programming for writing production code. It was developed by Guido van Rossum.\n",
    "\n",
    "### Variables\n",
    "Python variables do not need declaration as well as no specification of type. For example,\n",
    "\n",
    "var = 5\n",
    "var = 5.0\n",
    "var = \"string\"\n",
    "are all correct assignments. The same variable can be assigned to multiple variables:\n",
    "\n",
    "var_a = var_b = var_c = 5\n",
    "Python Lists\n",
    "Python lists are equivalent to arrays. For example:\n",
    "\n",
    "fruits = [\"Mango\", \"Banana\", \"Apple\", \"Orange\"]\n",
    "You can access the objects with the indices:\n",
    "\n",
    "To access the first object:\n",
    "\n",
    "\\>> fruits[0]\n",
    "'Mango'\n",
    "To access the last object, esp when the length of the list is large, a useful index method is to use negative index that refers to objects from the end of the list:\n",
    "\n",
    "\\>> fruits[-1]\n",
    "'Orange'\n",
    "The flexibility of python is that it can contain various objects of different types unlike many other languages:\n",
    "\n",
    "collection = [\"cost\", 100, \"Apples\", 5.0]\n",
    "Strings\n",
    "Strings in python are easy to work with. Here are the commonly used operators:\n",
    "\n",
    "Concatenation:\n",
    "To concatenate two strings, \"chair\" and \"table\", you can use:\n",
    "\n",
    "furniture = \"chair\" + \", table\"\n",
    "Other operations:\n",
    "\n",
    ".lower(), .upper() to lower & upper case the strings\n",
    "\n",
    "Regular Expressions\n",
    "\n",
    "you can use re package. For example to find the position of the string \n",
    "\n",
    "import re\n",
    "\\>>> re.search(\"Mango\", \"This is a Mango\")\n",
    "\\<_sre.SRE_Match object; span=(10, 15), match='Mango'>\n",
    "\n",
    "### Instructions\n",
    "Operators:\n",
    "To append two lists, you can use '+' operator.\n",
    "\n",
    "As Stack:\n",
    "Push\n",
    "Use the .append() command to push objects to a list.\n",
    "Pop\n",
    "\n",
    "Use the .pop() command to pop objects from a list.\n",
    "As Queue:\n",
    "from collections import deque\n",
    "fruit_queue = deque([\"Apples\", \"Oranges\", \"Mango\"])\n",
    "fruit_queue.append(\"Banana\")        \n",
    "fruit_queue.popleft()  \n",
    "'Apples'\n",
    "\n",
    "## 1. Exercise\n",
    "Given the queue:\n",
    "\n",
    "fruit_queue = deque([\"Mango\", \"Apple\", \"Orange\"])\n",
    "deque the first element from the left of the queue and push it to the stack, fruit_list after pluraizing it.\n",
    "Print fruit_list"
   ]
  },
  {
   "cell_type": "code",
   "execution_count": 1,
   "metadata": {
    "collapsed": true
   },
   "outputs": [],
   "source": [
    "from collections import deque\n",
    "\n",
    "fruit_queue = deque([\"Mango\", \"Apple\", \"Orange\"])\n",
    "fruit_list = [\"Oranges\", \"Mangoes\", \"Bananas\"]"
   ]
  },
  {
   "cell_type": "markdown",
   "metadata": {},
   "source": [
    "## Solution"
   ]
  },
  {
   "cell_type": "code",
   "execution_count": null,
   "metadata": {
    "collapsed": true
   },
   "outputs": [],
   "source": []
  },
  {
   "cell_type": "markdown",
   "metadata": {},
   "source": [
    "## 2: Python Operators & Loops\n",
    "Operators are the constructs which can manipulate the value of operands.\n",
    "\n",
    "Arithmetic Operators\n",
    "The standard operators are +, -, *, **, /, % for addition, subtraction, multiplication, exponentials, division and modulus respectively.\n",
    "\n",
    "Examples:\n",
    "\n",
    "var_a = 10\n",
    "var_b = 5\n",
    "var_sum = var_a + var_b\n",
    "Relational/Comparison Operators\n",
    "The comparison operators are similar to any other language with the commonly known symbols >, <, =, ==, >=, <= denoting, greater than, less than, assignment, equal to, greater than or equal to and less than or equal to respectively.\n",
    "\n",
    "var_c = var_a == var_b\n",
    "Membership Operator (in)\n",
    "Python’s membership operators test for membership in a sequence, such as strings, lists, or tuples. If x (in) is a subset of y, then the result is True or else False.\n",
    "\n",
    "\\>>> if var_a in [1, 2, 3, 4, 5, 6]:\n",
    "...   print(\"True\")\n",
    "True\n",
    "Identity Operators (is)\n",
    "Identity operators compare the memory locations of two python objects and returns True if they point to the same location.\n",
    "\n",
    "Two objects can contain the same value but can be different objects. Here is an example where 'is' fails:\n",
    "\n",
    "a = 'This '\n",
    "b += 'is a python tutorial'\n",
    "c = 'This is a python tutorial'\n",
    "\n",
    "\\>> b == c\n",
    "True\n",
    "\\>> b is c\n",
    "False\n",
    "Loops\n",
    "The two commonly used loops are the While loop and the For loop.\n",
    "\n",
    "### While Loop\n",
    "Note that Python works with indentation and no braces are necessary. The next line of code following the loops or conditions or function blocks should have an indentation of two spaces or four spaces.\n",
    "\n",
    "Syntax: \n",
    "While :\n",
    "  statements\n",
    "Example:\n",
    "i = 1\n",
    "while i < 5:\n",
    "  i += 1\n",
    "For Loop\n",
    "Syntax: \n",
    "\n",
    "For i in range(1, 10):\n",
    "  \\<statements>\n",
    "\n",
    "### 2. Exercise\n",
    "\n",
    "#### Instructions\n",
    "Compute the square of each number in X and assign it to a list y\n",
    "print y"
   ]
  },
  {
   "cell_type": "code",
   "execution_count": 2,
   "metadata": {
    "collapsed": true
   },
   "outputs": [],
   "source": [
    "x = range(1, 10)\n",
    "y = []"
   ]
  },
  {
   "cell_type": "markdown",
   "metadata": {},
   "source": [
    "### 2. Solution"
   ]
  },
  {
   "cell_type": "code",
   "execution_count": null,
   "metadata": {
    "collapsed": true
   },
   "outputs": [],
   "source": []
  },
  {
   "cell_type": "markdown",
   "metadata": {},
   "source": [
    "## 3: Decision Making\n",
    "Decision Making\n",
    "Decision Making is to execute a set of statements based on the validation of a statement condition. The decision making in Python involves an if condition that is written as:\n",
    "\n",
    "if condition:\n",
    "  statements\n",
    "\n",
    "### 3. Exercise\n",
    "\n",
    "#### Instructions\n",
    "Given the list x = range(0, 100) which provides a list of values in steps of 1 till 100, push each value to the list, even_numbers, if it is an even number.\n",
    "print even_numbers"
   ]
  },
  {
   "cell_type": "code",
   "execution_count": 2,
   "metadata": {
    "collapsed": true
   },
   "outputs": [],
   "source": [
    "even_numbers = []\n",
    "x = range(0, 100)"
   ]
  },
  {
   "cell_type": "markdown",
   "metadata": {},
   "source": [
    "## 3. Solution"
   ]
  },
  {
   "cell_type": "code",
   "execution_count": null,
   "metadata": {
    "collapsed": true
   },
   "outputs": [],
   "source": []
  },
  {
   "cell_type": "markdown",
   "metadata": {},
   "source": [
    "## 4: Tuples, Sets, Dictionaries\n",
    "\n",
    "### Tuples\n",
    "A tuple is a sequence of immutable sequential objects. Tuples use parentheses for access unlike lists and cannot be changed. It is an ordered sequence and used for objects such as coordinates that contain latitude, longitude.\n",
    "\n",
    "#### Example: \n",
    "\n",
    "loc = (30.456, 50.436)\n",
    "Sets\n",
    "Sets are collection types and very useful for Mathematicians, Statisticians and Data Scientists. A set contains an unordered collection of unique objects of the same type. It is equivalent to the mathematical definition of sets.\n",
    "\n",
    "even_number_set = set([0, 2, 4, 6])\n",
    "Dictionary\n",
    "Dictionaries are hash maps containing key-value pairs. While the keys need to be unique, the referenced values need not be. The values are accessed via the keys.\n",
    "\n",
    "#### Example: A dictionary of city to state:\n",
    "\n",
    "location_dict = {'Boston': 'MA', 'Chicago': 'IL', 'New York': 'NY'}\n",
    "\n",
    "## 4. Exercise\n",
    "\n",
    "#### Instructions\n",
    "Build a location map that contains latitude and longitude of the following cities.\n",
    "\n",
    "Boston: 42.318365, -71.086692\n",
    "Chicago: 41.797568, -87.620958\n",
    "New York: 40.685526, -73.887406\n",
    "\n",
    "* Assign it to variable location_map \n",
    "* How would you build this structure and print out the values."
   ]
  },
  {
   "cell_type": "code",
   "execution_count": null,
   "metadata": {
    "collapsed": true
   },
   "outputs": [],
   "source": [
    "location_map = ''"
   ]
  },
  {
   "cell_type": "markdown",
   "metadata": {},
   "source": [
    "## 4. Solution"
   ]
  },
  {
   "cell_type": "code",
   "execution_count": null,
   "metadata": {
    "collapsed": true
   },
   "outputs": [],
   "source": []
  },
  {
   "cell_type": "markdown",
   "metadata": {},
   "source": [
    "# 2: Operators\n",
    "\n",
    "Operators are the constructs which can manipulate the value of operands.\n",
    "\n",
    "## Arithmetic Operators\n",
    "\n",
    "The standard operators are +, -, *, **, /, % for addition, subtraction, multiplication, exponentials, division and modulus respectively.\n",
    "\n",
    "### Examples:\n",
    "\n",
    "var_a = 10\n",
    "var_b = 5\n",
    "var_sum = var_a + var_b\n",
    "Relational/Comparison Operators\n",
    "\n",
    "The comparison operators are similar to any other language with the commonly known symbols >, <, =, ==, >=, <= denoting, greater than, less than, assignment, equal to, greater than or equal to and less than or equal to respectively.\n",
    "\n",
    "var_c = var_a == var_b\n",
    "Membership Operator (in)\n",
    "\n",
    "Python’s membership operators test for membership in a sequence, such as strings, lists, or tuples. If x (in) is a subset of y, then the result is True or else False.\n",
    "\n",
    ">>> if var_a in [1, 2, 3, 4, 5, 6]:\n",
    "...   print(\"True\")\n",
    "True\n",
    "Identity Operators (is)\n",
    "\n",
    "Identity operators compare the memory locations of two python objects and returns True if they point to the same location.\n",
    "\n",
    "Two objects can contain the same value but can be different objects. Here is an example where 'is' fails:\n",
    "\n",
    "a = 'This '\n",
    "b += 'is a python tutorial'\n",
    "c = 'This is a python tutorial'\n",
    "\n",
    ">> b == c\n",
    "True\n",
    ">> b is c\n",
    "False\n",
    "Loops\n",
    "\n",
    "The two commonly used loops are the While loop and the For loop.\n",
    "\n",
    "### While Loop\n",
    "\n",
    "Note that Python works with indentation and no braces are necessary. The next line of code following the loops or conditions or function blocks should have an indentation of two spaces or four spaces.\n",
    "\n",
    "#### Syntax: \n",
    "\n",
    "While :\n",
    "  statements\n",
    "\n",
    "Example:\n",
    "\n",
    "i = 1\n",
    "while i < 5:\n",
    "  i += 1\n",
    "For Loop\n",
    "\n",
    "Syntax: \n",
    "\n",
    "For i in range(1, 10):\n",
    "   statements\n",
    "   \n",
    "## 5. Exercise\n",
    "   \n",
    "* Compute the square of each number in X and assign it to a list y\n",
    "* print y"
   ]
  },
  {
   "cell_type": "code",
   "execution_count": 1,
   "metadata": {
    "collapsed": true
   },
   "outputs": [],
   "source": [
    "x = range(1, 10)\n",
    "y = []"
   ]
  },
  {
   "cell_type": "markdown",
   "metadata": {},
   "source": [
    "## 5. Solution"
   ]
  },
  {
   "cell_type": "code",
   "execution_count": null,
   "metadata": {
    "collapsed": true
   },
   "outputs": [],
   "source": []
  },
  {
   "cell_type": "markdown",
   "metadata": {},
   "source": [
    "# 3. Decision Making\n",
    "\n",
    "Decision Making is to execute a set of statements based on the validation of a statement condition. The decision making in Python involves an if condition that is written as:\n",
    "\n",
    "if condition:\n",
    "  statements\n",
    "  \n",
    "## 6. Exercise\n",
    "* Given the list x = range(0, 100) which provides a list of values in steps of 1 till 100, push each value to the list, even_numbers, if it is an even number.\n",
    "* print even_numbers"
   ]
  },
  {
   "cell_type": "code",
   "execution_count": 3,
   "metadata": {
    "collapsed": true
   },
   "outputs": [],
   "source": [
    "even_numbers = []\n",
    "x = range(0, 100)"
   ]
  },
  {
   "cell_type": "markdown",
   "metadata": {},
   "source": [
    "## 6. Solution"
   ]
  },
  {
   "cell_type": "markdown",
   "metadata": {},
   "source": [
    "# 4: Tuples\n",
    "\n",
    "A tuple is a sequence of immutable sequential objects. Tuples use parentheses for access unlike lists and cannot be changed. It is an ordered sequence and used for objects such as coordinates that contain latitude, longitude.\n",
    "\n",
    "#### Example: \n",
    "\n",
    "loc = (30.456, 50.436)\n",
    "\n",
    "### Sets\n",
    "\n",
    "Sets are collection types and very useful for Mathematicians, Statisticians and Data Scientists. A set contains an unordered collection of unique objects of the same type. It is equivalent to the mathematical definition of sets.\n",
    "\n",
    "even_number_set = set([0, 2, 4, 6])\n",
    "\n",
    "### Dictionary\n",
    "\n",
    "Dictionaries are hash maps containing key-value pairs. While the keys need to be unique, the referenced values need not be. The values are accessed via the keys.\n",
    "\n",
    "#### Example: A dictionary of city to state:\n",
    "\n",
    "location_dict = {'Boston': 'MA', 'Chicago': 'IL', 'New York': 'NY'}\n",
    "\n",
    "## 7. Exercise\n",
    "\n",
    "* Given the queue:\n",
    "fruit_queue = deque([\"Mango\", \"Apple\", \"Orange\"]), \n",
    "deque the first element from the left of the queue and push it to the stack, fruit_list after pluraizing it.\n",
    "Print fruit_list"
   ]
  },
  {
   "cell_type": "code",
   "execution_count": 7,
   "metadata": {
    "collapsed": true
   },
   "outputs": [],
   "source": [
    "from collections import deque\n",
    "\n",
    "fruit_queue = deque([\"Mango\", \"Apple\", \"Orange\"])\n",
    "fruit_list = [\"Oranges\", \"Mangoes\", \"Bananas\"]"
   ]
  },
  {
   "cell_type": "markdown",
   "metadata": {},
   "source": [
    "## 7. Solution"
   ]
  },
  {
   "cell_type": "code",
   "execution_count": null,
   "metadata": {
    "collapsed": true
   },
   "outputs": [],
   "source": []
  }
 ],
 "metadata": {
  "anaconda-cloud": {},
  "kernelspec": {
   "display_name": "Python [conda root]",
   "language": "python",
   "name": "conda-root-py"
  },
  "language_info": {
   "codemirror_mode": {
    "name": "ipython",
    "version": 3
   },
   "file_extension": ".py",
   "mimetype": "text/x-python",
   "name": "python",
   "nbconvert_exporter": "python",
   "pygments_lexer": "ipython3",
   "version": "3.5.2"
  }
 },
 "nbformat": 4,
 "nbformat_minor": 1
}
