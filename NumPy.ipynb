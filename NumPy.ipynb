{
 "cells": [
  {
   "cell_type": "markdown",
   "metadata": {},
   "source": [
    "# 1: NumPy Introduction\n",
    "Basics of NumPy.\n",
    "\n",
    "NumPy object is a multi-dimensional array. It is a table of elements of the same type, indexed by a tuple of positive integers. In Numpy dimensions are called axes. The number of axes is rank. (ref: scipy.org)\n",
    "\n",
    "Consider a 3D space of x, y and z coordinates. A  point in 3D space [1.0, 3.0, 5.0] is an array of rank 1. If there are several such points as shown below, then the dimensions are 4 and 3.\n",
    "\n",
    "[[ 1.0, 0.3, 4.5],\n",
    " [ 0.5, 1.5, 2.3],\n",
    " [ 6.0, 4.6, 3.5],\n",
    " [ 4.5, 3.5, 6.3]]\n",
    "To use any library you need to import them. Any python library can be referenced by any alias that is mentioned during the import. For example, NumPy library is most commonly imported in the short form as np:\n",
    "\n",
    "import numpy as np\n",
    "\n",
    "Instructions\n",
    "The command shape is used to determine the dimensions of the array. The library numpy is imported initially. numpy directly could be used to run operations such as numpy.array(). However, using short forms of libraries such as np is a common practice.\n",
    "\n",
    "Find the shape of the array below and assign the shape to the variable: two_d_shape and print it out.\n",
    "\n",
    "[[1, 0.3, 4.5],\n",
    "[2, 4.0, 6.0]]\n",
    "\n",
    "## 1. Exercise"
   ]
  },
  {
   "cell_type": "code",
   "execution_count": 1,
   "metadata": {
    "collapsed": true
   },
   "outputs": [],
   "source": [
    "import numpy as np\n",
    "\n",
    "two_d_array = np.array([[ 1 ,  0.3,  4.5],\n",
    "                        [2, 4.0, 6.0]])\n"
   ]
  },
  {
   "cell_type": "markdown",
   "metadata": {},
   "source": [
    "## 1. Solution"
   ]
  },
  {
   "cell_type": "code",
   "execution_count": 3,
   "metadata": {
    "collapsed": true
   },
   "outputs": [],
   "source": [
    "import numpy as np\n",
    "\n",
    "two_d_array = np.array([[ 1 ,  0.3,  4.5],\n",
    "                        [2, 4.0, 6.0]])"
   ]
  },
  {
   "cell_type": "markdown",
   "metadata": {},
   "source": [
    "# 2: NumPy Array Operations\n",
    "Operations\n",
    " \n",
    "In this lesson we shall study various operations on the numpy arrays. \n",
    "\n",
    "Addition of two arrays\n",
    "To add another array of the same dimension use the function add.\n",
    "\n",
    "C = numpy.add(A, B)\n",
    "Subtraction of two arrays\n",
    "\n",
    "To subtract an array from another array use \n",
    "\n",
    "D = A - B\n",
    "Multiplication\n",
    "\n",
    "To multiply a constant with the elements of the array:\n",
    "\n",
    "K = 10\n",
    "Y = K * np.sin(array)\n",
    "To multiply a vector with another vector:\n",
    "\n",
    "Y = A.dot(B)\n",
    "Other Common Operations\n",
    "\n",
    "The other common operations such as square root and exponential functions can be computed with the extensions that are also common to most other languages such as :\n",
    "\n",
    "numpy.sqrt(B), numpy.exp(A), \n",
    "In this lesson, we can observe that most operations you can conceive of  wrt arrays in the larger area of data science and linear algebra are available through the commonly available extensions in other languages as well.\n",
    "\n",
    "\n",
    "## 2. Exercise \n",
    "\n",
    "### Instructions\n",
    "Given two arrays:\n",
    "\n",
    "A = [1, 2, 3, 4] and\n",
    "B = [2, 3, 4, 5]\n",
    "\n",
    "The numpy.append() function can append an array to an array.\n",
    "\n",
    "Using the append function, generate powers of A to each element of B and append the arrays to the array, C.\n",
    "Print C.\n",
    "For example the first array is going to be:\n",
    "A\\*\\*B[0] = A**2 = [1, 4, 9, 16]"
   ]
  },
  {
   "cell_type": "code",
   "execution_count": 4,
   "metadata": {
    "collapsed": true
   },
   "outputs": [],
   "source": [
    "import numpy as np\n",
    "\n",
    "A = np.array([1, 2, 3, 4])\n",
    "B = np.array([2, 3, 4, 5])"
   ]
  },
  {
   "cell_type": "markdown",
   "metadata": {},
   "source": [
    "## 2. Solution"
   ]
  },
  {
   "cell_type": "code",
   "execution_count": 5,
   "metadata": {
    "collapsed": false
   },
   "outputs": [
    {
     "name": "stdout",
     "output_type": "stream",
     "text": [
      "[  1.00000000e+00   4.00000000e+00   9.00000000e+00   1.60000000e+01\n",
      "   1.00000000e+00   8.00000000e+00   2.70000000e+01   6.40000000e+01\n",
      "   1.00000000e+00   1.60000000e+01   8.10000000e+01   2.56000000e+02\n",
      "   1.00000000e+00   3.20000000e+01   2.43000000e+02   1.02400000e+03]\n"
     ]
    }
   ],
   "source": [
    "C = np.array([]) \n",
    "\n",
    "for power in B: \n",
    "  C = np.append(C, A**power) \n",
    "\n",
    "print(C)"
   ]
  }
 ],
 "metadata": {
  "anaconda-cloud": {},
  "kernelspec": {
   "display_name": "Python [conda root]",
   "language": "python",
   "name": "conda-root-py"
  },
  "language_info": {
   "codemirror_mode": {
    "name": "ipython",
    "version": 3
   },
   "file_extension": ".py",
   "mimetype": "text/x-python",
   "name": "python",
   "nbconvert_exporter": "python",
   "pygments_lexer": "ipython3",
   "version": "3.5.2"
  }
 },
 "nbformat": 4,
 "nbformat_minor": 1
}
