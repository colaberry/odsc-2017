{
 "cells": [
  {
   "cell_type": "markdown",
   "metadata": {},
   "source": [
    "# 1: Data Visualization\n",
    "\n",
    "Data Visualization is an important part of Data Science. It is an effective way to communicate your findings about the dataset post exploratory analysis as well as results through powerful visualizations. The goals of visualization are:\n",
    "\n",
    "* To gain powerful insights into data that aren't obvious with statistics. \n",
    "* Business and non-technical audience are able to comprehend the results.\n",
    "* Useful for stories so peer data scientists can understand the analysis. \n",
    "\n",
    "Matplotlib is a basic graphing library in python. It is one of the most commonly used package by data scientists for visualization. Matplotlib doesn't have the all the necessary types of plots that could make the visualizations powerful. There are many data visualization libraries, some of which use Matplotlib in the background to render the visualizations. However it is important to study and understand how to display graphs using Matplotlib as it is a base library.\n",
    "\n",
    "## Matplotlib\n",
    "Let us learn to use matplotlib by plotting the sine curve. The sine of a variable can be computed using the numpy library with np.sin() function.\n",
    "\n",
    "import matplotlib.pyplot as plt\n",
    "import numpy as np\n",
    "\n",
    "x = np.linspace(-np.pi, np.pi, 100)\n",
    "plt.plot(x, np.sin(x))\n",
    "plt.xlabel('Theta')\n",
    "plt.ylabel('y=sin(x)')\n",
    "plt.show()\n",
    "\n",
    "## 1. Exercise\n",
    "\n",
    "#### Instructions\n",
    "\n",
    "#### The Gaussian Normal Distribution\n",
    "The Gaussian Normal probability distribution is a commonly occuring type of probability distribution where the values peak around the mean with highest probability and taper down on either sides. The greater the area under the curve, then greater is the presence of a population around the mean for such a dataset. matlplotlib has mlab which is useful for computing the normal distribution y values.\n",
    "\n",
    "* The function mlab.normpdf(samples, mean, variance) will generate y values, and code below will plot the curve for the x values.\n",
    "* Seeing the above example, generate 100 values of x from -20 to 20 for which y is computed."
   ]
  },
  {
   "cell_type": "code",
   "execution_count": 1,
   "metadata": {
    "collapsed": false
   },
   "outputs": [
    {
     "ename": "TypeError",
     "evalue": "unsupported operand type(s) for -: 'str' and 'float'",
     "output_type": "error",
     "traceback": [
      "\u001b[0;31m---------------------------------------------------------------------------\u001b[0m",
      "\u001b[0;31mTypeError\u001b[0m                                 Traceback (most recent call last)",
      "\u001b[0;32m<ipython-input-1-d1a6a9ae3d1b>\u001b[0m in \u001b[0;36m<module>\u001b[0;34m()\u001b[0m\n\u001b[1;32m     10\u001b[0m \u001b[0;31m# Generate 100 values of x from -20 to 20.\u001b[0m\u001b[0;34m\u001b[0m\u001b[0;34m\u001b[0m\u001b[0m\n\u001b[1;32m     11\u001b[0m \u001b[0mx\u001b[0m \u001b[0;34m=\u001b[0m \u001b[0;34m''\u001b[0m\u001b[0;34m\u001b[0m\u001b[0m\n\u001b[0;32m---> 12\u001b[0;31m \u001b[0my\u001b[0m \u001b[0;34m=\u001b[0m \u001b[0mmlab\u001b[0m\u001b[0;34m.\u001b[0m\u001b[0mnormpdf\u001b[0m\u001b[0;34m(\u001b[0m\u001b[0mx\u001b[0m\u001b[0;34m,\u001b[0m \u001b[0mmean\u001b[0m\u001b[0;34m,\u001b[0m \u001b[0mvar\u001b[0m\u001b[0;34m)\u001b[0m\u001b[0;34m\u001b[0m\u001b[0m\n\u001b[0m\u001b[1;32m     13\u001b[0m \u001b[0;34m\u001b[0m\u001b[0m\n\u001b[1;32m     14\u001b[0m \u001b[0mplt\u001b[0m\u001b[0;34m.\u001b[0m\u001b[0mxlabel\u001b[0m\u001b[0;34m(\u001b[0m\u001b[0;34m'X'\u001b[0m\u001b[0;34m)\u001b[0m\u001b[0;34m\u001b[0m\u001b[0m\n",
      "\u001b[0;32m/Users/harishkashyap/anaconda/lib/python3.5/site-packages/matplotlib/mlab.py\u001b[0m in \u001b[0;36mnormpdf\u001b[0;34m(x, *args)\u001b[0m\n\u001b[1;32m   1585\u001b[0m     \u001b[0;34m\"Return the normal pdf evaluated at *x*; args provides *mu*, *sigma*\"\u001b[0m\u001b[0;34m\u001b[0m\u001b[0m\n\u001b[1;32m   1586\u001b[0m     \u001b[0mmu\u001b[0m\u001b[0;34m,\u001b[0m \u001b[0msigma\u001b[0m \u001b[0;34m=\u001b[0m \u001b[0margs\u001b[0m\u001b[0;34m\u001b[0m\u001b[0m\n\u001b[0;32m-> 1587\u001b[0;31m     \u001b[0;32mreturn\u001b[0m \u001b[0;36m1.\u001b[0m\u001b[0;34m/\u001b[0m\u001b[0;34m(\u001b[0m\u001b[0mnp\u001b[0m\u001b[0;34m.\u001b[0m\u001b[0msqrt\u001b[0m\u001b[0;34m(\u001b[0m\u001b[0;36m2\u001b[0m\u001b[0;34m*\u001b[0m\u001b[0mnp\u001b[0m\u001b[0;34m.\u001b[0m\u001b[0mpi\u001b[0m\u001b[0;34m)\u001b[0m\u001b[0;34m*\u001b[0m\u001b[0msigma\u001b[0m\u001b[0;34m)\u001b[0m\u001b[0;34m*\u001b[0m\u001b[0mnp\u001b[0m\u001b[0;34m.\u001b[0m\u001b[0mexp\u001b[0m\u001b[0;34m(\u001b[0m\u001b[0;34m-\u001b[0m\u001b[0;36m0.5\u001b[0m \u001b[0;34m*\u001b[0m \u001b[0;34m(\u001b[0m\u001b[0;36m1.\u001b[0m\u001b[0;34m/\u001b[0m\u001b[0msigma\u001b[0m\u001b[0;34m*\u001b[0m\u001b[0;34m(\u001b[0m\u001b[0mx\u001b[0m \u001b[0;34m-\u001b[0m \u001b[0mmu\u001b[0m\u001b[0;34m)\u001b[0m\u001b[0;34m)\u001b[0m\u001b[0;34m**\u001b[0m\u001b[0;36m2\u001b[0m\u001b[0;34m)\u001b[0m\u001b[0;34m\u001b[0m\u001b[0m\n\u001b[0m\u001b[1;32m   1588\u001b[0m \u001b[0;34m\u001b[0m\u001b[0m\n\u001b[1;32m   1589\u001b[0m \u001b[0;34m\u001b[0m\u001b[0m\n",
      "\u001b[0;31mTypeError\u001b[0m: unsupported operand type(s) for -: 'str' and 'float'"
     ]
    }
   ],
   "source": [
    "import math\n",
    "import matplotlib.pyplot as plt\n",
    "import numpy as np\n",
    "import matplotlib.mlab as mlab\n",
    "\n",
    "mean = 0.5\n",
    "var_squared = 20.0\n",
    "var = math.sqrt(var_squared)\n",
    "\n",
    "# Generate 100 values of x from -20 to 20.\n",
    "x = ''\n",
    "y = mlab.normpdf(x, mean, var)\n",
    "\n",
    "plt.xlabel('X')\n",
    "plt.ylabel('Probability') \n",
    "dv_a = plt.plot(x, y)"
   ]
  },
  {
   "cell_type": "markdown",
   "metadata": {},
   "source": [
    "## 1. Solution"
   ]
  },
  {
   "cell_type": "code",
   "execution_count": null,
   "metadata": {
    "collapsed": false
   },
   "outputs": [],
   "source": []
  },
  {
   "cell_type": "markdown",
   "metadata": {},
   "source": [
    "## 2: The Scatter Plot\n",
    "The scatter plot is a 2-D plot that provides a visualization of how two variables are correlated with each other. If at any given (x, y), we observe a dense population then we can infer that when the value of x is high, the value of y is also high and vice versa.\n",
    "\n",
    "Seaborn Data Visualization library \n",
    "Seaborn data visualization library is built on top of matplotlib but with much more powerful features. The graphs produced are also aesthetic and convey more information useful for Data Scientists. We shall use seaborn for many of our visualizations. It is commonly imported as sns. Seaborn has many example datasets that can be loaded into a dataframe. Let us try to visualize how people tip with the 'tips' dataset:\n",
    "\n",
    "import numpy as np\n",
    "import pandas as pd\n",
    "import seaborn as sns\n",
    "\n",
    "sns.set(style=\"white\", color_codes=True)\n",
    "tips = sns.load_dataset(\"tips\")\n",
    "g = sns.jointplot(x=\"total_bill\", y=\"tip\", data=tips)\n",
    "\n",
    "#### You should to use sns.plt.show() to look up the graph if you are using a console.\n",
    "\n",
    "You can see that there is a dense presence of values between $10:20 total_bill vs $1:3. This means that as many people consume food in the dense range, the tips are also correlated in another range.\n",
    "\n",
    "## 2. Exercise\n",
    "\n",
    "#### Instructions\n",
    "The Gaussian Normal Distribution in Seaborn.\n",
    "* Given the distplot function, distplot(x) and the numpy.random.normal(size=) function, generate a 100 sized sample and generate a distribution plot."
   ]
  },
  {
   "cell_type": "code",
   "execution_count": 4,
   "metadata": {
    "collapsed": true
   },
   "outputs": [],
   "source": [
    "import numpy as np\n",
    "import seaborn as sns\n",
    "\n",
    "# Add code to generate a distribution plot"
   ]
  },
  {
   "cell_type": "markdown",
   "metadata": {},
   "source": [
    "## 2. Solution"
   ]
  },
  {
   "cell_type": "code",
   "execution_count": null,
   "metadata": {
    "collapsed": false
   },
   "outputs": [],
   "source": []
  },
  {
   "cell_type": "markdown",
   "metadata": {},
   "source": [
    "# 3: The Violin plots\n",
    "Violin plots are 2-D plots that can represent the distribution of datasets for two types of qualifiers within a dataset. For example, if we want to understand how tipping is done on various days by Men vs Women, we generate a violinplot:\n",
    "\n",
    "import seaborn as sns\n",
    "\n",
    "tips = sns.load_dataset(\"tips\")\n",
    "sns.violinplot(x=\"day\", y=\"total_bill\", hue=\"sex\", data=tips, split=True,\n",
    "               inner=\"quart\", palette={\"Male\": \"b\", \"Female\": \"y\"})\n",
    " \n",
    "\n",
    "You can see that a gaussian normal distribution has been aligned vertically for Male and Female for each day. For example, area under the curve on Friday for Females is much larger than Males with mean around the $15 range. We can interpret that more females tend to hangout and spend more on Fridays!\n",
    "\n",
    "## 2. Exercise\n",
    "\n",
    "#### Instructions\n",
    "Given the violinplots above, remove the hue variable along with the palette and generate the plot.\n",
    "Assign the plot to variable violin_tips_plot. What do you observe?"
   ]
  },
  {
   "cell_type": "code",
   "execution_count": 7,
   "metadata": {
    "collapsed": true
   },
   "outputs": [],
   "source": [
    "import seaborn as sns\n",
    "\n",
    "tips = sns.load_dataset(\"tips\")\n",
    "\n",
    "# Add code below with no hue and palette."
   ]
  },
  {
   "cell_type": "markdown",
   "metadata": {},
   "source": [
    "## 2. Solutions"
   ]
  },
  {
   "cell_type": "code",
   "execution_count": null,
   "metadata": {
    "collapsed": false
   },
   "outputs": [],
   "source": []
  }
 ],
 "metadata": {
  "anaconda-cloud": {},
  "kernelspec": {
   "display_name": "Python [conda root]",
   "language": "python",
   "name": "conda-root-py"
  },
  "language_info": {
   "codemirror_mode": {
    "name": "ipython",
    "version": 3
   },
   "file_extension": ".py",
   "mimetype": "text/x-python",
   "name": "python",
   "nbconvert_exporter": "python",
   "pygments_lexer": "ipython3",
   "version": "3.5.2"
  }
 },
 "nbformat": 4,
 "nbformat_minor": 1
}
