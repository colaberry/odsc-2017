{
 "cells": [
  {
   "cell_type": "markdown",
   "metadata": {},
   "source": [
    "# 1: Logistic Regression\n",
    "## Introduction to Classification\n",
    "Classification refers to associating a target variable uniquely into one of the known classes. When number of classes are more than 2, then it is called multiclass classification. When the number of classes are two, then it is called binary classification. Logistic Regression is one of the popular type of classification techniques used. \n",
    "\n",
    "Consider the following type of scenario where the output y, varies with x as shown in the figure below where linear regression is used for fitting the model. \n",
    "\n",
    "\n",
    "\n",
    "As you can see above the line does not pass through the data points. If they were to pass through the data points and 'fit' the data approximately well, then a Linear Regression model would be useful. Also, there are a good number of overlaps of 0s and 1s for the same value of X. This means that for a given age, it is difficult to tell if the person aboard the Titanic survived or dead easily with the above graph. This problem can be clearly identified as a classification problem as the output is a finite number, either a 0 or a 1. This is also an example of how Exploratory Data Analysis (EDA) can be useful by plotting the output variable, 'Survived' against one of the independent variables, 'Age'.\n",
    "\n",
    "## 1. Exercise\n",
    "\n",
    "#### Instructions\n",
    "Given the data from Kaggle related to survivors of the Titanic, identify if the problem is a classification problem or regression problem without visualization.\n",
    "\n",
    "* What command would you use to identify the problem? \n",
    "* assign the result to the variable titanic_stats"
   ]
  },
  {
   "cell_type": "code",
   "execution_count": 6,
   "metadata": {
    "collapsed": true
   },
   "outputs": [],
   "source": [
    "%matplotlib inline\n",
    "import pandas as pd\n",
    "import numpy as np\n",
    "import seaborn as sns\n",
    "\n",
    "train_data = pd.read_csv(\"https://raw.githubusercontent.com/agconti/kaggle-titanic/master/data/train.csv\")\n",
    "test_data = pd.read_csv(\"https://raw.githubusercontent.com/agconti/kaggle-titanic/master/data/test.csv\")"
   ]
  },
  {
   "cell_type": "markdown",
   "metadata": {},
   "source": [
    "## 1. Solution"
   ]
  },
  {
   "cell_type": "code",
   "execution_count": null,
   "metadata": {
    "collapsed": false
   },
   "outputs": [],
   "source": []
  },
  {
   "cell_type": "markdown",
   "metadata": {},
   "source": [
    "## 2: Titanic Survivors\n",
    "Kaggle posted a famous dataset from Titanic. It was about the survivors amongst the people aboard. Here is the description from Kaggle:\n",
    "\n",
    "Competition Description\n",
    "The sinking of the RMS Titanic is one of the most infamous shipwrecks in history.  On April 15, 1912, during her maiden voyage, the Titanic sank after colliding with an iceberg, killing 1502 out of 2224 passengers and crew. This sensational tragedy shocked the international community and led to better safety regulations for ships.\n",
    "\n",
    "One of the reasons that the shipwreck led to such loss of life was that there were not enough lifeboats for the passengers and crew. Although there was some element of luck involved in surviving the sinking, some groups of people were more likely to survive than others, such as women, children, and the upper-class.\n",
    "\n",
    "In this challenge, we ask you to complete the analysis of what sorts of people were likely to survive. In particular, we ask you to apply the tools of machine learning to predict which passengers survived the tragedy.\n",
    "\n",
    "source: https://www.kaggle.com/c/titanic\n",
    "\n",
    "We shall use this dataset for analysis and study of logistic regression. \n",
    "\n",
    "Loading the Data\n",
    "\n",
    "* The data has been split into train_data, test_data and can be loaded from kaggle with read_csv command:"
   ]
  },
  {
   "cell_type": "code",
   "execution_count": 4,
   "metadata": {
    "collapsed": true
   },
   "outputs": [],
   "source": [
    "import pandas as pd\n",
    "\n",
    "train_data = pd.read_csv(\"https://raw.githubusercontent.com/agconti/kaggle-titanic/master/data/train.csv\")\n",
    "test_data = pd.read_csv(\"https://raw.githubusercontent.com/agconti/kaggle-titanic/master/data/test.csv\")"
   ]
  },
  {
   "cell_type": "code",
   "execution_count": 7,
   "metadata": {
    "collapsed": false
   },
   "outputs": [
    {
     "name": "stderr",
     "output_type": "stream",
     "text": [
      "/Users/harishkashyap/anaconda/lib/python3.5/site-packages/statsmodels/nonparametric/kdetools.py:20: VisibleDeprecationWarning: using a non-integer number instead of an integer will result in an error in the future\n",
      "  y = X[:m/2+1] + np.r_[0,X[m/2+1:],0]*1j\n"
     ]
    },
    {
     "data": {
      "text/plain": [
       "<matplotlib.axes._subplots.AxesSubplot at 0x11514bd68>"
      ]
     },
     "execution_count": 7,
     "metadata": {},
     "output_type": "execute_result"
    },
    {
     "data": {
      "image/png": "[encoded data removed]",
      "text/plain": [
       "<matplotlib.figure.Figure at 0x104a06da0>"
      ]
     },
     "metadata": {},
     "output_type": "display_data"
    }
   ],
   "source": [
    "sns.distplot(train_data['Survived'])"
   ]
  },
  {
   "cell_type": "markdown",
   "metadata": {},
   "source": [
    "From the above distribution, it can be observed that those who survived are approximately 2/3rd in the training set.We can observe that there were children and mostly adults followed by lesser aged people with max of 80 years approximately. This can be observed by two peaks in the fitted distribution.\n",
    "\n",
    "## 2. Exercise\n",
    "\n",
    "#### Instructions\n",
    "\n",
    "#### Visualizing the Age of People Aboard\n",
    "Let us look at the distribution of age of people aboard.\n",
    "\n",
    "* Remove rows that have unknown Age using .notnull() over the Age column to detect the non-null entries.\n",
    "* Using the non-null entries plot the distribution using the sns.distplot() and assign the plot to variable, dist_plot."
   ]
  },
  {
   "cell_type": "code",
   "execution_count": 8,
   "metadata": {
    "collapsed": true
   },
   "outputs": [],
   "source": [
    "# Modify the plot below and assign to the variable g\n",
    "# dist_plot = sns.distplot(train_data['Age'])"
   ]
  },
  {
   "cell_type": "markdown",
   "metadata": {},
   "source": [
    "## 2. Solution"
   ]
  },
  {
   "cell_type": "code",
   "execution_count": null,
   "metadata": {
    "collapsed": false
   },
   "outputs": [],
   "source": []
  },
  {
   "cell_type": "markdown",
   "metadata": {},
   "source": [
    "## 3: Exploratory Data Analysis (EDA)\n",
    "\n",
    "### Understanding Age\n",
    "We do not have any prior information about how the age for child was defined in those years. The above information is helpful as we can categorize the people as child, adults and seniors by looking the peaks.\n",
    "\n",
    "Let us define functions to categorize the age into these three categories with age of 16 and 48 as the defining separators from the graph."
   ]
  },
  {
   "cell_type": "code",
   "execution_count": 10,
   "metadata": {
    "collapsed": true
   },
   "outputs": [],
   "source": [
    "def person_type(x):\n",
    "  if x <=16:\n",
    "    return 'C'\n",
    "  elif x <= 48:\n",
    "    return 'A'\n",
    "  elif x <= 90:\n",
    "    return 'S'\n",
    "  else:\n",
    "    return 'U'"
   ]
  },
  {
   "cell_type": "markdown",
   "metadata": {},
   "source": [
    "The above function categorizes the continous variable 'Age' into a categorized variable. We can use apply function to transform each entry in the Age column and assign it to Person."
   ]
  },
  {
   "cell_type": "code",
   "execution_count": 12,
   "metadata": {
    "collapsed": true
   },
   "outputs": [],
   "source": [
    "train_data['Person'] = train_data['Age'].apply(person_type)\n",
    "test_data['Person'] = test_data['Age'].apply(person_type)"
   ]
  },
  {
   "cell_type": "markdown",
   "metadata": {},
   "source": [
    "We can now look at who is likely to survive depending on the type of Person with a factor plot. A factor plot can consider another factor such as Sex along with the Age. "
   ]
  },
  {
   "cell_type": "code",
   "execution_count": 13,
   "metadata": {
    "collapsed": false
   },
   "outputs": [
    {
     "data": {
      "image/png": "[encoded data removed]",
      "text/plain": [
       "<matplotlib.figure.Figure at 0x1174f8fd0>"
      ]
     },
     "metadata": {},
     "output_type": "display_data"
    }
   ],
   "source": [
    "g = sns.factorplot(x=\"Person\", y=\"Survived\", hue=\"Sex\", data=train_data,\n",
    "                             size=5, kind=\"bar\", palette=\"muted\")"
   ]
  },
  {
   "cell_type": "markdown",
   "metadata": {},
   "source": [
    "From the above plot you can see that senior women were most likely to survive with highest probability than anyone else. Now we can ignore the Sex type and visualize who was likely to survive.\n",
    "\n",
    "## 3. Exercise\n",
    "\n",
    "#### Instructions\n",
    "Using the information from the above graph, visualize the number of people who survived vs Person ignoring the Sex attribute. This will provide us information on who mostly survived in the dataset."
   ]
  },
  {
   "cell_type": "code",
   "execution_count": null,
   "metadata": {
    "collapsed": true
   },
   "outputs": [],
   "source": []
  },
  {
   "cell_type": "markdown",
   "metadata": {},
   "source": [
    "## 3. Solution"
   ]
  },
  {
   "cell_type": "code",
   "execution_count": null,
   "metadata": {
    "collapsed": false
   },
   "outputs": [],
   "source": []
  },
  {
   "cell_type": "markdown",
   "metadata": {},
   "source": [
    "## 4: Chances of Survival\n",
    "\n",
    "Let us now look at the class from which people had better chances of survival:"
   ]
  },
  {
   "cell_type": "code",
   "execution_count": 16,
   "metadata": {
    "collapsed": false
   },
   "outputs": [
    {
     "data": {
      "image/png": "[encoded data removed]",
      "text/plain": [
       "<matplotlib.figure.Figure at 0x11a48d198>"
      ]
     },
     "metadata": {},
     "output_type": "display_data"
    }
   ],
   "source": [
    "g = sns.factorplot(x=\"Pclass\", y=\"Survived\", data=train_data, size=5, kind=\"bar\", palette=\"muted\")"
   ]
  },
  {
   "cell_type": "markdown",
   "metadata": {},
   "source": [
    "We can see that 1st class passengers had much better chances of survival. We can also visualize the distribution of Male and Female using a violin plot. This is very useful to measure the mean and variance of passengers as to their likelihood of survival in each class grouped by Male and Female. The distribution graphs are shown on either side of the line for each class."
   ]
  },
  {
   "cell_type": "code",
   "execution_count": 18,
   "metadata": {
    "collapsed": false
   },
   "outputs": [
    {
     "data": {
      "text/plain": [
       "<matplotlib.axes._subplots.AxesSubplot at 0x11a4c07b8>"
      ]
     },
     "execution_count": 18,
     "metadata": {},
     "output_type": "execute_result"
    },
    {
     "data": {
      "image/png": "[encoded data removed]",
      "text/plain": [
       "<matplotlib.figure.Figure at 0x11a4cf5f8>"
      ]
     },
     "metadata": {},
     "output_type": "display_data"
    }
   ],
   "source": [
    "sns.set(style=\"whitegrid\", palette=\"pastel\", color_codes=True)\n",
    "sns.violinplot(x=\"Pclass\", y=\"Survived\", hue=\"Sex\", data=train_data, split=True,\n",
    "               inner=\"quart\", palette={\"male\": \"b\", \"female\": \"y\"})"
   ]
  },
  {
   "cell_type": "markdown",
   "metadata": {},
   "source": [
    "## 4. Exercise\n",
    "\n",
    "#### Instructions\n",
    "* Generate a violin plot of type of person vs Survived for both men and women\n",
    "* What do you interpret from the visualization?"
   ]
  },
  {
   "cell_type": "code",
   "execution_count": 19,
   "metadata": {
    "collapsed": true
   },
   "outputs": [],
   "source": [
    "# Modify the code below\n",
    "#g = sns.violinplot(x='Pclass', y='Survived', hue='Sex', data=train_data, split=True, inner='quart', palette={'male': 'b', 'female': 'y'})"
   ]
  },
  {
   "cell_type": "markdown",
   "metadata": {},
   "source": [
    "## 4. Solution"
   ]
  },
  {
   "cell_type": "code",
   "execution_count": null,
   "metadata": {
    "collapsed": false
   },
   "outputs": [],
   "source": []
  },
  {
   "cell_type": "markdown",
   "metadata": {},
   "source": [
    "## 5: Titanic Survivors - Data Selection & Preparation\n",
    "Prior to fitting a logistic regression model for classifying who would likely survive, we have to examine the dataset with information from EDA as well as using other statistical methods. The logistic regression algorithm is also a supervised learning technique. \n",
    "\n",
    "The dataset from training and testing has data that cannot be directly used due to many issues including but not limited to:\n",
    "\n",
    "Sparse column entries in certain columns such as Cabin.\n",
    "NaN entries in columns.\n",
    "Categorical variables with string entries.\n",
    "Selection of right columns.\n",
    "Sparsity\n",
    "Let us examine sparse columns by counting the ratio of NaNs to all the values. describe() function on dataframe provides information about mean, median and the number of values ignoring NaNs only for float/integer columns. \n",
    "\n",
    "train_data.describe()\n",
    "\n",
    "       PassengerId    Survived      Pclass         Age       SibSp  \\\n",
    "count   891.000000  891.000000  891.000000  714.000000  891.000000   \n",
    "mean    446.000000    0.383838    2.308642   29.699118    0.523008   \n",
    "std     257.353842    0.486592    0.836071   14.526497    1.102743   \n",
    "min       1.000000    0.000000    1.000000    0.420000    0.000000   \n",
    "25%     223.500000    0.000000    2.000000   20.125000    0.000000   \n",
    "50%     446.000000    0.000000    3.000000   28.000000    0.000000   \n",
    "75%     668.500000    1.000000    3.000000   38.000000    1.000000   \n",
    "max     891.000000    1.000000    3.000000   80.000000    8.000000   \n",
    "\n",
    "            Parch        Fare  \n",
    "count  891.000000  891.000000  \n",
    "mean     0.381594   32.204208  \n",
    "std      0.806057   49.693429  \n",
    "min      0.000000    0.000000  \n",
    "25%      0.000000    7.910400  \n",
    "50%      0.000000   14.454200  \n",
    "75%      0.000000   31.000000  \n",
    "max      6.000000  512.329200\n",
    "The count row provides information about how many values exist with rest being NaNs.\n",
    "\n",
    "### Age\n",
    "We can see that Age column has 714 entries with missing (891 - 714 = 177) values. This would be 177/891 = 0.19 or approximately 20% of missing values. If this percentage was small, we could choose to ignore those rows for fitting a logistic regression model. There are various methods to fill the missing values. But before we discuss the ways to fix the issue of Age column sparsity, let us examine other columns as well.\n",
    "\n",
    "### PassengerId, Name, Ticket\n",
    "We can see that PassengerId, Name and Ticket are all unique to each person and hence will not serve as columns for modeling. Logistic Regression or any supervised or unsupervised learning methods need to understand patterns in the dataset. This is a necessary condition, so that algorithms can make sense of the data available by mathematically recording these patterns. Hence, Ids, Names are usually candidates that aren't useful for modeling. They are needed for identifying the person post recommendation, prediction or classification. They are also going to be useful later for other columns, thereby improving the overall dataset. \n",
    "\n",
    "### Cabin\n",
    "The Cabin column is really sparse with just (148/891 = 0.16) 16% data available. You can use len(train_data.Cabin.unique()) to determine the total length. When data is very sparse, we can ignore it for modeling in the first iteration. Later for improving the fit, this column can be investigated deeper to extract more information.\n",
    "\n",
    "### Embarked\n",
    "This data shows the point where passengers Embarked. It has very less sparsity with train_data[train_data.Embarked.notnull()] = 889 which is nearly all the data (891). Hence, it can be useful for modeling.\n",
    "\n",
    "### Person\n",
    "This is a column we created ourselves by splitting up age into different bands of Child, Adult, Senior and Unknown. We have to determine how any Unknown people are there so that we can build better models. Since, this variable depends directly on age, if we can fix the sparsity of age, this will be fixed as well.\n",
    "\n",
    "## 5. Exercise\n",
    "\n",
    "#### Instructions\n",
    "The Fare column has no sparsity and is complete.\n",
    "\n",
    "* Generate a plot to visualize Fare just as we did visualize Age.\n",
    "* Write down what bands would be able to split the Fare into.\n",
    "* Assign the plot to variable fare_plot as shown in the code below. "
   ]
  },
  {
   "cell_type": "code",
   "execution_count": 21,
   "metadata": {
    "collapsed": true
   },
   "outputs": [],
   "source": [
    "# Here is the distplot used to generate Age plot. Modify features variable for fare.\n",
    "#ind_var = train_data[train_data['Age'].notnull()].Age\n",
    "#fare_plot = sns.distplot(ind_var)"
   ]
  },
  {
   "cell_type": "markdown",
   "metadata": {},
   "source": [
    "## 5. Solution"
   ]
  },
  {
   "cell_type": "code",
   "execution_count": null,
   "metadata": {
    "collapsed": false
   },
   "outputs": [],
   "source": []
  },
  {
   "cell_type": "markdown",
   "metadata": {},
   "source": [
    "## 6: Statistical Imputations\n",
    "\n",
    "### Dummy Variables\n",
    "Dummy variables are numerical values used in place of categorical variables. These are necessary to convert range of unique set of strings or numbers into a unique array of values that represents the string. The columns, 'Sex' and 'Embarked' are categorical variables with string content. \n",
    "\n",
    "#### Sex Column\n",
    "The Sex column has entries male or female. This column could be mapped into two columns of male and female. We can then have 1s and 0s to indicate if the row is male or female. Since it is mutually exclusive that the row is either a male or a female and hence the columns can only have the following entries:\n",
    "\n",
    "Male\tFemale\n",
    "0\t1\n",
    "1\t0\n",
    "After this transform the logistic regression model can also 'mathematically model' or understand that the row refers to either male or female without having to go through the Sex column with string content. What happens if we eliminate one of the columns such as the Male column as below?\n",
    "\n",
    "Female\n",
    "0\n",
    "1\n",
    "\n",
    "We can still determine uniquely if the subject is a female or not, where 0 represents absence and 1 represents presence. This step of elimination of a single column in a range of dummy variables not only reduces complexity for modeling with lesser columns conveying the information but also necessary due to mathematical reasons. When all the columns are added, a singularity matrix can occur which gives an error in classification.\n",
    "\n",
    "Imputation refers to methods of substituting estimates for missing values in the data. This is an important step that can train the model better as more data becomes available post imputations. There are many known methods of imputations. Sometime, by analysis and EDA, we can design custom imputation methods that provide best statistical estimates for the missing value. This reduces sparsity in the dataset. In the Titanic dataset, let us start investigating various methods to impute sparse columns.\n",
    "\n",
    "### Age Column\n",
    "To impute the age column, we can use the name information. How many of names with Mr., Mrs., Miss and Master exist and use the mean values for each where the ages are missing. Here are the estimates for each category:"
   ]
  },
  {
   "cell_type": "code",
   "execution_count": 27,
   "metadata": {
    "collapsed": true
   },
   "outputs": [],
   "source": [
    "miss_est = train_data[train_data['Name'].str.contains('Miss. ')].Age.mean()\n",
    "master_est = train_data[train_data['Name'].str.contains('Master. ')].Age.mean()\n",
    "mrs_est = train_data[train_data['Name'].str.contains('Mrs. ')].Age.mean()\n",
    "mr_est = train_data[train_data['Name'].str.contains('Mr. ')].Age.mean()"
   ]
  },
  {
   "cell_type": "markdown",
   "metadata": {},
   "source": [
    "The above estimates can be improved further by considering the Parents column as those names containing Master and Miss would have a subset of children (unmarried referring to Master & Miss). Here is a function that takes all of these rules into consideration:"
   ]
  },
  {
   "cell_type": "code",
   "execution_count": 29,
   "metadata": {
    "collapsed": true
   },
   "outputs": [],
   "source": [
    "girl_child_est = train_data[train_data['Name'].str.contains('Miss. ') & (train_data['Parch'] == 1)].Age.mean()\n",
    "boy_child_est = train_data[train_data['Name'].str.contains('Master. ') & (train_data['Parch'] == 1)].Age.mean()\n",
    "woman_adult_est = train_data[train_data['Name'].str.contains('Miss. ') & (train_data['Parch'] == 0)].Age.mean()\n",
    "man_adult_est = train_data[train_data['Name'].str.contains('Master. ') & (train_data['Parch'] == 1)].Age.mean()\n",
    "woman_married_est = train_data[train_data['Name'].str.contains('Mrs. ')].Age.mean()\n",
    "man_married_est = train_data[train_data['Name'].str.contains('Mr. ')].Age.mean()"
   ]
  },
  {
   "cell_type": "markdown",
   "metadata": {},
   "source": [
    "We shall use the above estimates with an imputation function that we will build based on the same rules as above. Math function is imported as to check for NaNs outside of dataframe methods, it is needed. "
   ]
  },
  {
   "cell_type": "code",
   "execution_count": 31,
   "metadata": {
    "collapsed": true
   },
   "outputs": [],
   "source": [
    "import math\n",
    "def impute_age(row):\n",
    "    if math.isnan(row[5]):\n",
    "        if ((('Miss. ') in row[3]) and (row[7] == 1)):\n",
    "            return girl_child_est\n",
    "        elif ((('Master. ') in row[3]) and (row[7] == 1)):\n",
    "            return boy_child_est\n",
    "        elif ((('Miss. ') in row[3]) and (row[7] == 0)):\n",
    "            return woman_adult_est\n",
    "        elif (('Mrs. ') in row[3]):\n",
    "            return woman_married_est\n",
    "        else:\n",
    "            return man_married_est\n",
    "    else:\n",
    "        return row[5]"
   ]
  },
  {
   "cell_type": "markdown",
   "metadata": {},
   "source": [
    "Dataframe has an apply method that can apply this function to either each element in the dataframe or to each row. To specify row instead of applying the function to each element, pass axis=1 to the function:"
   ]
  },
  {
   "cell_type": "code",
   "execution_count": 32,
   "metadata": {
    "collapsed": false
   },
   "outputs": [],
   "source": [
    "train_data['Imputed_Age'] = train_data.apply(impute_age, axis=1)\n",
    "test_data['Imputed_Age'] = test_data.apply(impute_age, axis=1)"
   ]
  },
  {
   "cell_type": "markdown",
   "metadata": {},
   "source": [
    "## 6. Exercise\n",
    "\n",
    "#### Instructions\n",
    "apply function on dataframes as shown in the code section below operates on every single row; i.e, every row is passed on to the impute_age function which returns the estimated age when it doesn't exist. \n",
    "\n",
    "* Given the math function, math.isnan(x) which returns if the result is a Nan or Not, use it at the approriate place in the code below, and create a new column called Imputed_Age to contain ages where they exist as well as imputed ages in place of NaNs.\n",
    "* Assign the column Imputed_Age to variable imputed_age.\n",
    "* print out first few rows using the .head() command."
   ]
  },
  {
   "cell_type": "code",
   "execution_count": 34,
   "metadata": {
    "collapsed": true
   },
   "outputs": [],
   "source": [
    "import math\n",
    "import statsmodels.api as sm\n",
    "from sklearn.metrics import roc_curve, roc_auc_score\n",
    "\n",
    "girl_child_est = train_data[train_data['Name'].str.contains('Miss. ') & (train_data['Parch'] == 1)].Age.mean()\n",
    "boy_child_est = train_data[train_data['Name'].str.contains('Master. ') & (train_data['Parch'] == 1)].Age.mean()\n",
    "woman_adult_est = train_data[train_data['Name'].str.contains('Miss. ') & (train_data['Parch'] == 0)].Age.mean()\n",
    "man_adult_est = train_data[train_data['Name'].str.contains('Master. ') & (train_data['Parch'] == 1)].Age.mean()\n",
    "woman_married_est = train_data[train_data['Name'].str.contains('Mrs. ')].Age.mean()\n",
    "man_married_est = train_data[train_data['Name'].str.contains('Mr. ')].Age.mean()\n",
    "\n",
    "# Modify and uncomment the code below to impute the age.\n",
    "#def impute_age(row):\n",
    "#    if ((('Miss. ') in row[3]) and (row[7] == 1)):\n",
    "#      return girl_child_est\n",
    "#   elif ((('Master. ') in row[3]) and (row[7] == 1)):\n",
    "#      return boy_child_est\n",
    "#    elif ((('Miss. ') in row[3]) and (row[7] == 0)):\n",
    "#      return woman_adult_est\n",
    "#    elif (('Mrs. ') in row[3]):\n",
    "#      return woman_married_est\n",
    "#    else:\n",
    "#      return man_married_est\n",
    "\n",
    "#train_data['Imputed_Age'] = train_data.apply(impute_age, axis=1)"
   ]
  },
  {
   "cell_type": "markdown",
   "metadata": {},
   "source": [
    "## 6. Solution"
   ]
  },
  {
   "cell_type": "code",
   "execution_count": null,
   "metadata": {
    "collapsed": false
   },
   "outputs": [],
   "source": []
  },
  {
   "cell_type": "markdown",
   "metadata": {},
   "source": [
    "## 7: ROC Curves\n",
    "### Working with Categorical Variables \n",
    "Categorical variables are variables where the values belong to a finite set. For example, the days of the week (0-7), Sex (Male/Female) are categorical variables. These categorical variables such as where the person embarked the ship, the sex need to be split up into separate columns so that the logistic regression model can understand them. To do so, we use dummy variables. These dummy variables encode the categorical variables into a set of 0s & 1 where 0 indicates absence of the feature and 1 indicates presence of the feature. Hence, the logistic regression model can tune to this dataset. Here, we have used the get_dummies to prepare the dataset."
   ]
  },
  {
   "cell_type": "code",
   "execution_count": 36,
   "metadata": {
    "collapsed": false
   },
   "outputs": [
    {
     "data": {
      "text/html": [
       "<div>\n",
       "<table border=\"1\" class=\"dataframe\">\n",
       "  <thead>\n",
       "    <tr style=\"text-align: right;\">\n",
       "      <th></th>\n",
       "      <th>PassengerId</th>\n",
       "      <th>Survived</th>\n",
       "      <th>Pclass</th>\n",
       "      <th>Name</th>\n",
       "      <th>Sex</th>\n",
       "      <th>Age</th>\n",
       "      <th>SibSp</th>\n",
       "      <th>Parch</th>\n",
       "      <th>Ticket</th>\n",
       "      <th>Fare</th>\n",
       "      <th>Cabin</th>\n",
       "      <th>Embarked</th>\n",
       "      <th>Person</th>\n",
       "      <th>Imputed_Age</th>\n",
       "      <th>C</th>\n",
       "      <th>Q</th>\n",
       "      <th>S</th>\n",
       "      <th>female</th>\n",
       "      <th>male</th>\n",
       "      <th>Age_Imputed</th>\n",
       "    </tr>\n",
       "  </thead>\n",
       "  <tbody>\n",
       "    <tr>\n",
       "      <th>0</th>\n",
       "      <td>1</td>\n",
       "      <td>0</td>\n",
       "      <td>3</td>\n",
       "      <td>Braund, Mr. Owen Harris</td>\n",
       "      <td>male</td>\n",
       "      <td>22.0</td>\n",
       "      <td>1</td>\n",
       "      <td>0</td>\n",
       "      <td>A/5 21171</td>\n",
       "      <td>7.2500</td>\n",
       "      <td>NaN</td>\n",
       "      <td>S</td>\n",
       "      <td>A</td>\n",
       "      <td>22.0</td>\n",
       "      <td>0.0</td>\n",
       "      <td>0.0</td>\n",
       "      <td>1.0</td>\n",
       "      <td>0.0</td>\n",
       "      <td>1.0</td>\n",
       "      <td>22.0</td>\n",
       "    </tr>\n",
       "    <tr>\n",
       "      <th>1</th>\n",
       "      <td>2</td>\n",
       "      <td>1</td>\n",
       "      <td>1</td>\n",
       "      <td>Cumings, Mrs. John Bradley (Florence Briggs Th...</td>\n",
       "      <td>female</td>\n",
       "      <td>38.0</td>\n",
       "      <td>1</td>\n",
       "      <td>0</td>\n",
       "      <td>PC 17599</td>\n",
       "      <td>71.2833</td>\n",
       "      <td>C85</td>\n",
       "      <td>C</td>\n",
       "      <td>A</td>\n",
       "      <td>38.0</td>\n",
       "      <td>1.0</td>\n",
       "      <td>0.0</td>\n",
       "      <td>0.0</td>\n",
       "      <td>1.0</td>\n",
       "      <td>0.0</td>\n",
       "      <td>38.0</td>\n",
       "    </tr>\n",
       "    <tr>\n",
       "      <th>2</th>\n",
       "      <td>3</td>\n",
       "      <td>1</td>\n",
       "      <td>3</td>\n",
       "      <td>Heikkinen, Miss. Laina</td>\n",
       "      <td>female</td>\n",
       "      <td>26.0</td>\n",
       "      <td>0</td>\n",
       "      <td>0</td>\n",
       "      <td>STON/O2. 3101282</td>\n",
       "      <td>7.9250</td>\n",
       "      <td>NaN</td>\n",
       "      <td>S</td>\n",
       "      <td>A</td>\n",
       "      <td>26.0</td>\n",
       "      <td>0.0</td>\n",
       "      <td>0.0</td>\n",
       "      <td>1.0</td>\n",
       "      <td>1.0</td>\n",
       "      <td>0.0</td>\n",
       "      <td>26.0</td>\n",
       "    </tr>\n",
       "    <tr>\n",
       "      <th>3</th>\n",
       "      <td>4</td>\n",
       "      <td>1</td>\n",
       "      <td>1</td>\n",
       "      <td>Futrelle, Mrs. Jacques Heath (Lily May Peel)</td>\n",
       "      <td>female</td>\n",
       "      <td>35.0</td>\n",
       "      <td>1</td>\n",
       "      <td>0</td>\n",
       "      <td>113803</td>\n",
       "      <td>53.1000</td>\n",
       "      <td>C123</td>\n",
       "      <td>S</td>\n",
       "      <td>A</td>\n",
       "      <td>35.0</td>\n",
       "      <td>0.0</td>\n",
       "      <td>0.0</td>\n",
       "      <td>1.0</td>\n",
       "      <td>1.0</td>\n",
       "      <td>0.0</td>\n",
       "      <td>35.0</td>\n",
       "    </tr>\n",
       "    <tr>\n",
       "      <th>4</th>\n",
       "      <td>5</td>\n",
       "      <td>0</td>\n",
       "      <td>3</td>\n",
       "      <td>Allen, Mr. William Henry</td>\n",
       "      <td>male</td>\n",
       "      <td>35.0</td>\n",
       "      <td>0</td>\n",
       "      <td>0</td>\n",
       "      <td>373450</td>\n",
       "      <td>8.0500</td>\n",
       "      <td>NaN</td>\n",
       "      <td>S</td>\n",
       "      <td>A</td>\n",
       "      <td>35.0</td>\n",
       "      <td>0.0</td>\n",
       "      <td>0.0</td>\n",
       "      <td>1.0</td>\n",
       "      <td>0.0</td>\n",
       "      <td>1.0</td>\n",
       "      <td>35.0</td>\n",
       "    </tr>\n",
       "  </tbody>\n",
       "</table>\n",
       "</div>"
      ],
      "text/plain": [
       "   PassengerId  Survived  Pclass  \\\n",
       "0            1         0       3   \n",
       "1            2         1       1   \n",
       "2            3         1       3   \n",
       "3            4         1       1   \n",
       "4            5         0       3   \n",
       "\n",
       "                                                Name     Sex   Age  SibSp  \\\n",
       "0                            Braund, Mr. Owen Harris    male  22.0      1   \n",
       "1  Cumings, Mrs. John Bradley (Florence Briggs Th...  female  38.0      1   \n",
       "2                             Heikkinen, Miss. Laina  female  26.0      0   \n",
       "3       Futrelle, Mrs. Jacques Heath (Lily May Peel)  female  35.0      1   \n",
       "4                           Allen, Mr. William Henry    male  35.0      0   \n",
       "\n",
       "   Parch            Ticket     Fare Cabin Embarked Person  Imputed_Age    C  \\\n",
       "0      0         A/5 21171   7.2500   NaN        S      A         22.0  0.0   \n",
       "1      0          PC 17599  71.2833   C85        C      A         38.0  1.0   \n",
       "2      0  STON/O2. 3101282   7.9250   NaN        S      A         26.0  0.0   \n",
       "3      0            113803  53.1000  C123        S      A         35.0  0.0   \n",
       "4      0            373450   8.0500   NaN        S      A         35.0  0.0   \n",
       "\n",
       "     Q    S  female  male  Age_Imputed  \n",
       "0  0.0  1.0     0.0   1.0         22.0  \n",
       "1  0.0  0.0     1.0   0.0         38.0  \n",
       "2  0.0  1.0     1.0   0.0         26.0  \n",
       "3  0.0  1.0     1.0   0.0         35.0  \n",
       "4  0.0  1.0     0.0   1.0         35.0  "
      ]
     },
     "execution_count": 36,
     "metadata": {},
     "output_type": "execute_result"
    }
   ],
   "source": [
    "train_embarked = pd.get_dummies(train_data['Embarked'])\n",
    "train_sex = pd.get_dummies(train_data['Sex'])\n",
    "train_data = train_data.join([train_embarked, train_sex])\n",
    "test_embarked = pd.get_dummies(test_data['Embarked'])\n",
    "test_sex = pd.get_dummies(test_data['Sex'])\n",
    "test_data = test_data.join([test_embarked, test_sex])\n",
    "train_data['Age_Imputed']=train_data.apply(impute_age, axis=1)\n",
    "test_data['Age_Imputed']=test_data.apply(impute_age, axis=1)\n",
    "train_data.head()"
   ]
  },
  {
   "cell_type": "markdown",
   "metadata": {},
   "source": [
    "ROC is a short form of Region of Convergence. We need to choose a threshold that best provides the estimate of classes. Before we proceed with understanding ROC curves we need to understand a confusion matrix that is used to analyse the performance of the classifier. Suppose we are trying to predict class A, then:\n",
    "\n",
    "Confusion Matrix:\n",
    "\n",
    " \tClass A\tNot Class A\n",
    " \"Class A\" Prediction\tTrue Positive\tFalse Positive\n",
    " \"Not Class A\" Prediction\tFalse Negative\tTrue Negative\n",
    "Sensitivity or True positive rate : TPR=TP/(TP+FN) \n",
    "False positive rate: FPR=FP/(FP+TN)\n",
    "True negative rate (or specificity): TNR=TN/(FP+TN)\n",
    "Total accuracy = (TP + TN)/(TP + FN + FP + TN)\n",
    "From the total accuracy formula, you can observe that the goal is to minimize False Postives and False Negatives. \n",
    "\n",
    "Let us use ROC functions from sklearn:"
   ]
  },
  {
   "cell_type": "code",
   "execution_count": 40,
   "metadata": {
    "collapsed": false
   },
   "outputs": [
    {
     "name": "stdout",
     "output_type": "stream",
     "text": [
      "The columns have categorical variables\n",
      "Optimization terminated successfully.\n",
      "         Current function value: 0.689550\n",
      "         Iterations 4\n"
     ]
    }
   ],
   "source": [
    "from sklearn.metrics import roc_curve, roc_auc_score\n",
    "\n",
    "# You dont want this to join twice if you are attempting this lesson multiple times.\n",
    "\n",
    "try:\n",
    "  train_embarked = pd.get_dummies(train_data['Embarked'])\n",
    "  train_sex = pd.get_dummies(train_data['Sex'])\n",
    "  train_data = train_data.join([train_embarked, train_sex])\n",
    "\n",
    "  test_embarked = pd.get_dummies(test_data['Embarked']) \n",
    "  test_sex = pd.get_dummies(test_data['Sex'])\n",
    "  test_data = test_data.join([test_embarked, test_sex])\n",
    "except:\n",
    "  print(\"The columns have categorical variables\")\n",
    "\n",
    "# Modify the features list to include the relevant features and plot the roc curve.\n",
    "\n",
    "features = ['Fare']\n",
    "log_model = sm.Logit(train_data['Survived'], train_data[features]).fit()\n",
    "y_pred = log_model.predict(train_data[features])\n",
    "\n",
    "from sklearn.metrics import roc_curve, roc_auc_score\n",
    "roc_survival = roc_curve(train_data[['Survived']], y_pred)"
   ]
  },
  {
   "cell_type": "markdown",
   "metadata": {},
   "source": [
    "ROC plots are plots of True Positives vs False Positives. Hence we need the top left curve to be closer to the upper and left axis as much as possible to increase performance. \n",
    "\n",
    "Seaborn visualization is better than matplotlib. Matplotlib is a basic visualization tool and we can use it with seaborn styles. "
   ]
  },
  {
   "cell_type": "code",
   "execution_count": 43,
   "metadata": {
    "collapsed": false
   },
   "outputs": [
    {
     "data": {
      "image/png": "[encoded data removed]",
      "text/plain": [
       "<matplotlib.figure.Figure at 0x11b8d0240>"
      ]
     },
     "metadata": {},
     "output_type": "display_data"
    }
   ],
   "source": [
    "sns.set_style(\"whitegrid\")\n",
    "sns.plt.plot(roc_survival[0], roc_survival[1])\n",
    "sns.plt.show()"
   ]
  },
  {
   "cell_type": "markdown",
   "metadata": {},
   "source": [
    "above curve is how a typical ROC curve looks like and you should quickly be able to identify it. We would want to improve the fit, which would imply pushing the curve closer to left and top axis, minimizing False positives and maximizing True positives.\n",
    "\n",
    "## 7. Exercise\n",
    "\n",
    "#### Instructions\n",
    "Train the logistic regression model for all input features in the same order as it is present in the dataframe columns. Use those features you think are best suited and get the predictions on training data. \n",
    "\n",
    "* Plot the ROC curve and assign it to the variable roc_plot. Use roc_survival variable to compute ROC.\n",
    "* How different is the ROC curve from the previous ROC curve for model trained with one feature?"
   ]
  },
  {
   "cell_type": "code",
   "execution_count": 44,
   "metadata": {
    "collapsed": false
   },
   "outputs": [
    {
     "name": "stdout",
     "output_type": "stream",
     "text": [
      "The columns have categorical variables\n",
      "Optimization terminated successfully.\n",
      "         Current function value: 0.689550\n",
      "         Iterations 4\n"
     ]
    }
   ],
   "source": [
    "from sklearn.metrics import roc_curve, roc_auc_score\n",
    "\n",
    "# You dont want this to join twice if you are attempting this lesson multiple times.\n",
    "\n",
    "try:\n",
    "  train_embarked = pd.get_dummies(train_data['Embarked'])\n",
    "  train_sex = pd.get_dummies(train_data['Sex'])\n",
    "  train_data = train_data.join([train_embarked, train_sex])\n",
    "\n",
    "  test_embarked = pd.get_dummies(test_data['Embarked']) \n",
    "  test_sex = pd.get_dummies(test_data['Sex'])\n",
    "  test_data = test_data.join([test_embarked, test_sex])\n",
    "except:\n",
    "  print(\"The columns have categorical variables\")\n",
    "\n",
    "# Modify the features list to include the relevant features and plot the roc curve.\n",
    "\n",
    "features = ['Fare']\n",
    "log_model = sm.Logit(train_data['Survived'], train_data[features]).fit()\n",
    "y_pred = log_model.predict(train_data[features])"
   ]
  },
  {
   "cell_type": "markdown",
   "metadata": {},
   "source": [
    "## 7. Solution"
   ]
  },
  {
   "cell_type": "code",
   "execution_count": null,
   "metadata": {
    "collapsed": false
   },
   "outputs": [],
   "source": []
  },
  {
   "cell_type": "markdown",
   "metadata": {},
   "source": [
    "## 8: Logistic Regression using Scikit-Learn\n",
    "\n",
    "Here we shall learn how to perform modeling using scikit-learn."
   ]
  },
  {
   "cell_type": "code",
   "execution_count": 46,
   "metadata": {
    "collapsed": true
   },
   "outputs": [],
   "source": [
    "from sklearn import metrics\n",
    "from sklearn.linear_model import LogisticRegression"
   ]
  },
  {
   "cell_type": "markdown",
   "metadata": {},
   "source": [
    "Instantiate a logistic regression model as:"
   ]
  },
  {
   "cell_type": "code",
   "execution_count": 48,
   "metadata": {
    "collapsed": true
   },
   "outputs": [],
   "source": [
    "log_sci_model = LogisticRegression()"
   ]
  },
  {
   "cell_type": "markdown",
   "metadata": {},
   "source": [
    "Train the model with 'Fare':"
   ]
  },
  {
   "cell_type": "code",
   "execution_count": 50,
   "metadata": {
    "collapsed": false
   },
   "outputs": [
    {
     "data": {
      "text/plain": [
       "0.66554433221099885"
      ]
     },
     "execution_count": 50,
     "metadata": {},
     "output_type": "execute_result"
    }
   ],
   "source": [
    "from sklearn import metrics, cross_validation\n",
    "from sklearn.linear_model import LogisticRegression\n",
    "\n",
    "# Modify the code below to include all possible features.\n",
    "\n",
    "features = ['Fare']\n",
    "\n",
    "log_sci_model = LogisticRegression()\n",
    "log_sci_model = log_sci_model.fit(train_data[features], train_data['Survived'])\n",
    "log_sci_model.score(train_data[features], train_data['Survived'])"
   ]
  },
  {
   "cell_type": "markdown",
   "metadata": {},
   "source": [
    "## 8. Exercise\n",
    "\n",
    "#### Instructions\n",
    "Train the model with all possible features.\n",
    "\n",
    "* Assign all the list of features to the variable, features.\n",
    "* Train using scikit learn logistic regression module.\n",
    "* Get the prediction on the training set and print out the score."
   ]
  },
  {
   "cell_type": "code",
   "execution_count": 51,
   "metadata": {
    "collapsed": false
   },
   "outputs": [
    {
     "data": {
      "text/plain": [
       "0.66554433221099885"
      ]
     },
     "execution_count": 51,
     "metadata": {},
     "output_type": "execute_result"
    }
   ],
   "source": [
    "from sklearn import metrics, cross_validation\n",
    "from sklearn.linear_model import LogisticRegression\n",
    "\n",
    "# Modify the code below to include all possible features.\n",
    "\n",
    "features = ['Fare']\n",
    "\n",
    "log_sci_model = LogisticRegression()\n",
    "log_sci_model = log_sci_model.fit(train_data[features], train_data['Survived'])\n",
    "log_sci_model.score(train_data[features], train_data['Survived'])"
   ]
  },
  {
   "cell_type": "markdown",
   "metadata": {},
   "source": [
    "## 8. Solution"
   ]
  },
  {
   "cell_type": "code",
   "execution_count": null,
   "metadata": {
    "collapsed": false
   },
   "outputs": [],
   "source": []
  }
 ],
 "metadata": {
  "anaconda-cloud": {},
  "kernelspec": {
   "display_name": "Python [conda root]",
   "language": "python",
   "name": "conda-root-py"
  },
  "language_info": {
   "codemirror_mode": {
    "name": "ipython",
    "version": 3
   },
   "file_extension": ".py",
   "mimetype": "text/x-python",
   "name": "python",
   "nbconvert_exporter": "python",
   "pygments_lexer": "ipython3",
   "version": "3.5.2"
  }
 },
 "nbformat": 4,
 "nbformat_minor": 1
}
