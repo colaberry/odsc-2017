{
 "cells": [
  {
   "cell_type": "markdown",
   "metadata": {},
   "source": [
    "## 1. Exercise \n",
    "\n",
    "#### Instructions\n",
    "* Given the data set of college majors with information as to who secured a job and who didn't, what is this class of ML problem?\n",
    "\n",
    "College Majors\n",
    "Major\t Grade\tInternship\tSports\tJob at Graduation\n",
    "Engineering\tA\tNo\tNo\tNo\n",
    "Arts\tB\tYes\tYes\tYes\n",
    "Mathematics\tB\tB\tNo\tYes\n",
    "        [20, 10, 5, 4],\n",
    "        [5, 4, 39, 3]] "
   ]
  },
  {
   "cell_type": "code",
   "execution_count": null,
   "metadata": {
    "collapsed": true
   },
   "outputs": [],
   "source": [
    "# Print the answer\n",
    "print(\"\")"
   ]
  },
  {
   "cell_type": "markdown",
   "metadata": {},
   "source": [
    "## 1. Solution"
   ]
  },
  {
   "cell_type": "code",
   "execution_count": 1,
   "metadata": {
    "collapsed": false
   },
   "outputs": [
    {
     "name": "stdout",
     "output_type": "stream",
     "text": [
      "Supervised Learning, Classification\n"
     ]
    }
   ],
   "source": [
    "# Print the answer\n",
    "print(\"Supervised Learning, Classification\")"
   ]
  },
  {
   "cell_type": "markdown",
   "metadata": {},
   "source": [
    "## 2. Exercise\n",
    "\n",
    "#### Instructions\n",
    "* Given a line y = 5*x + 3,\n",
    "* compute predictions for x = {1, 5, 10, 12} and assign it to variable y."
   ]
  },
  {
   "cell_type": "code",
   "execution_count": 3,
   "metadata": {
    "collapsed": true
   },
   "outputs": [],
   "source": [
    "# Compute y for x, define x below.\n",
    "x = 'array'"
   ]
  },
  {
   "cell_type": "markdown",
   "metadata": {},
   "source": [
    "## 2. Solution"
   ]
  },
  {
   "cell_type": "code",
   "execution_count": 4,
   "metadata": {
    "collapsed": false
   },
   "outputs": [
    {
     "name": "stdout",
     "output_type": "stream",
     "text": [
      "[ 8 28 53 63]\n"
     ]
    }
   ],
   "source": [
    "import numpy as np \n",
    "x = np.array([1, 5, 10, 12]) \n",
    "y = 5*x + 3 \n",
    "print(y)"
   ]
  }
 ],
 "metadata": {
  "anaconda-cloud": {},
  "kernelspec": {
   "display_name": "Python [conda root]",
   "language": "python",
   "name": "conda-root-py"
  },
  "language_info": {
   "codemirror_mode": {
    "name": "ipython",
    "version": 3
   },
   "file_extension": ".py",
   "mimetype": "text/x-python",
   "name": "python",
   "nbconvert_exporter": "python",
   "pygments_lexer": "ipython3",
   "version": "3.5.2"
  }
 },
 "nbformat": 4,
 "nbformat_minor": 1
}
